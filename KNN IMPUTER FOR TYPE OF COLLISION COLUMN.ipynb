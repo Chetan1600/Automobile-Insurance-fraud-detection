{
 "cells": [
  {
   "cell_type": "code",
   "execution_count": 1,
   "metadata": {},
   "outputs": [],
   "source": [
    "import pandas as pd\n",
    "import numpy as np\n",
    "import matplotlib.pyplot as plt\n",
    "import seaborn as sns\n",
    "\n",
    "from sklearn.model_selection import train_test_split\n",
    "from sklearn.preprocessing import StandardScaler\n",
    "from sklearn.decomposition import PCA\n",
    "from sklearn.pipeline import Pipeline\n",
    "from sklearn.linear_model import LogisticRegression\n",
    "from sklearn.tree import DecisionTreeClassifier\n",
    "from sklearn.ensemble import RandomForestClassifier\n",
    "from sklearn.linear_model import LinearRegression\n",
    "\n",
    "from sklearn.pipeline import Pipeline\n",
    "from sklearn.compose import ColumnTransformer\n",
    "\n",
    "from sklearn.preprocessing import StandardScaler, OneHotEncoder\n",
    "from sklearn.impute import SimpleImputer\n",
    "from sklearn.preprocessing import LabelEncoder, OrdinalEncoder\n",
    "\n",
    "from sklearn.metrics import mean_absolute_percentage_error\n",
    "import warnings\n",
    "warnings.filterwarnings(\"ignore\")"
   ]
  },
  {
   "cell_type": "markdown",
   "metadata": {},
   "source": [
    "# IMPORTING THE DATASETS"
   ]
  },
  {
   "cell_type": "code",
   "execution_count": 37,
   "metadata": {
    "scrolled": true
   },
   "outputs": [],
   "source": [
    "data_claim = pd.read_csv('Train_Claim.csv',na_values=['?','MISSEDDATA','MISSINGVALUE','-5'])\n",
    "data_claim_1=pd.read_csv('Train_Claim.csv',na_values=['?','MISSEDDATA','MISSINGVALUE','-5'])"
   ]
  },
  {
   "cell_type": "code",
   "execution_count": 54,
   "metadata": {},
   "outputs": [],
   "source": [
    "test_data_claim = pd.read_csv(r'C:\\Users\\win10\\Desktop\\New folder (4)\\capstone-files\\TestData\\Test_Claim.csv',na_values=['?','MISSEDDATA','MISSINGVALUE','-5'])\n",
    "test_data_claim1 = pd.read_csv(r'C:\\Users\\win10\\Desktop\\New folder (4)\\capstone-files\\TestData\\Test_Claim.csv',na_values=['?','MISSEDDATA','MISSINGVALUE','-5'])"
   ]
  },
  {
   "cell_type": "code",
   "execution_count": 39,
   "metadata": {
    "scrolled": true
   },
   "outputs": [
    {
     "data": {
      "text/plain": [
       "CustomerID                   0\n",
       "DateOfIncident               0\n",
       "TypeOfIncident               0\n",
       "TypeOfCollission          5162\n",
       "SeverityOfIncident           0\n",
       "AuthoritiesContacted         0\n",
       "IncidentState                0\n",
       "IncidentCity                 0\n",
       "IncidentAddress              0\n",
       "IncidentTime                31\n",
       "NumberOfVehicles             0\n",
       "PropertyDamage           10459\n",
       "BodilyInjuries               0\n",
       "Witnesses                   46\n",
       "PoliceReport              9805\n",
       "AmountOfTotalClaim          50\n",
       "AmountOfInjuryClaim          0\n",
       "AmountOfPropertyClaim        0\n",
       "AmountOfVehicleDamage        0\n",
       "dtype: int64"
      ]
     },
     "execution_count": 39,
     "metadata": {},
     "output_type": "execute_result"
    }
   ],
   "source": [
    "data_claim.isnull().sum()"
   ]
  },
  {
   "cell_type": "markdown",
   "metadata": {},
   "source": [
    "# PREPROCESSING THE DATA"
   ]
  },
  {
   "cell_type": "code",
   "execution_count": 40,
   "metadata": {},
   "outputs": [
    {
     "data": {
      "text/plain": [
       "Index(['CustomerID', 'DateOfIncident', 'TypeOfIncident', 'TypeOfCollission',\n",
       "       'SeverityOfIncident', 'AuthoritiesContacted', 'IncidentState',\n",
       "       'IncidentCity', 'IncidentAddress', 'IncidentTime', 'NumberOfVehicles',\n",
       "       'PropertyDamage', 'BodilyInjuries', 'Witnesses', 'PoliceReport',\n",
       "       'AmountOfTotalClaim', 'AmountOfInjuryClaim', 'AmountOfPropertyClaim',\n",
       "       'AmountOfVehicleDamage'],\n",
       "      dtype='object')"
      ]
     },
     "execution_count": 40,
     "metadata": {},
     "output_type": "execute_result"
    }
   ],
   "source": [
    "data_claim['PoliceReport']=data_claim['PoliceReport'].replace(to_replace = np.nan, value ='dont know')\n",
    "data_claim.columns"
   ]
  },
  {
   "cell_type": "code",
   "execution_count": 41,
   "metadata": {},
   "outputs": [],
   "source": [
    "test_data_claim['PoliceReport']=test_data_claim['PoliceReport'].replace(to_replace = np.nan, value ='dont know')"
   ]
  },
  {
   "cell_type": "code",
   "execution_count": 42,
   "metadata": {},
   "outputs": [
    {
     "data": {
      "text/plain": [
       "2.0    8449\n",
       "1.0    8345\n",
       "0.0    6128\n",
       "3.0    5868\n",
       "Name: Witnesses, dtype: int64"
      ]
     },
     "execution_count": 42,
     "metadata": {},
     "output_type": "execute_result"
    }
   ],
   "source": [
    "data_claim['Witnesses'].value_counts()"
   ]
  },
  {
   "cell_type": "code",
   "execution_count": 43,
   "metadata": {},
   "outputs": [
    {
     "data": {
      "text/plain": [
       "2.0"
      ]
     },
     "execution_count": 43,
     "metadata": {},
     "output_type": "execute_result"
    }
   ],
   "source": [
    "data_claim['Witnesses'].mode()[0]"
   ]
  },
  {
   "cell_type": "code",
   "execution_count": 44,
   "metadata": {},
   "outputs": [],
   "source": [
    "test_data_claim['Witnesses'].fillna(data_claim['Witnesses'].mode()[0],inplace=True)"
   ]
  },
  {
   "cell_type": "code",
   "execution_count": 45,
   "metadata": {},
   "outputs": [],
   "source": [
    "data_claim['Witnesses'].fillna(data_claim['Witnesses'].mode()[0],inplace=True)"
   ]
  },
  {
   "cell_type": "code",
   "execution_count": 46,
   "metadata": {},
   "outputs": [],
   "source": [
    "data_claim.drop(['CustomerID','DateOfIncident','IncidentTime','PropertyDamage','AmountOfTotalClaim'],axis=1,inplace=True)"
   ]
  },
  {
   "cell_type": "code",
   "execution_count": 47,
   "metadata": {},
   "outputs": [],
   "source": [
    "test_data_claim.drop(['CustomerID','DateOfIncident','IncidentTime','PropertyDamage','AmountOfTotalClaim'],axis=1,inplace=True)"
   ]
  },
  {
   "cell_type": "code",
   "execution_count": 48,
   "metadata": {
    "scrolled": true
   },
   "outputs": [
    {
     "data": {
      "text/plain": [
       "TypeOfIncident              0\n",
       "TypeOfCollission         5162\n",
       "SeverityOfIncident          0\n",
       "AuthoritiesContacted        0\n",
       "IncidentState               0\n",
       "IncidentCity                0\n",
       "IncidentAddress             0\n",
       "NumberOfVehicles            0\n",
       "BodilyInjuries              0\n",
       "Witnesses                   0\n",
       "PoliceReport                0\n",
       "AmountOfInjuryClaim         0\n",
       "AmountOfPropertyClaim       0\n",
       "AmountOfVehicleDamage       0\n",
       "dtype: int64"
      ]
     },
     "execution_count": 48,
     "metadata": {},
     "output_type": "execute_result"
    }
   ],
   "source": [
    "data_claim.isnull().sum()"
   ]
  },
  {
   "cell_type": "code",
   "execution_count": 49,
   "metadata": {},
   "outputs": [
    {
     "data": {
      "text/plain": [
       "TypeOfIncident              0\n",
       "TypeOfCollission         1763\n",
       "SeverityOfIncident          0\n",
       "AuthoritiesContacted        0\n",
       "IncidentState               0\n",
       "IncidentCity                0\n",
       "IncidentAddress             0\n",
       "NumberOfVehicles            0\n",
       "BodilyInjuries              0\n",
       "Witnesses                   0\n",
       "PoliceReport                0\n",
       "AmountOfInjuryClaim         0\n",
       "AmountOfPropertyClaim       0\n",
       "AmountOfVehicleDamage       0\n",
       "dtype: int64"
      ]
     },
     "execution_count": 49,
     "metadata": {},
     "output_type": "execute_result"
    }
   ],
   "source": [
    "test_data_claim.isnull().sum()"
   ]
  },
  {
   "cell_type": "markdown",
   "metadata": {},
   "source": [
    "# MODEL TRAINING"
   ]
  },
  {
   "cell_type": "code",
   "execution_count": 10,
   "metadata": {},
   "outputs": [],
   "source": [
    "train=data_claim[data_claim['TypeOfCollission'].notnull()]\n",
    "test=data_claim[data_claim['TypeOfCollission'].isnull()]\n",
    "test.drop('TypeOfCollission',axis=1,inplace=True)"
   ]
  },
  {
   "cell_type": "code",
   "execution_count": 11,
   "metadata": {},
   "outputs": [],
   "source": [
    "x=train.drop('TypeOfCollission',axis=1)\n",
    "y=train['TypeOfCollission']"
   ]
  },
  {
   "cell_type": "code",
   "execution_count": 12,
   "metadata": {},
   "outputs": [],
   "source": [
    "cat_cols = train[['TypeOfIncident', \n",
    "       'SeverityOfIncident', 'AuthoritiesContacted', 'IncidentState',\n",
    "       'IncidentCity','NumberOfVehicles','IncidentAddress',\n",
    "        'BodilyInjuries', 'Witnesses','PoliceReport']].columns\n",
    "num_cols = train[['AmountOfInjuryClaim', 'AmountOfPropertyClaim',\n",
    "       'AmountOfVehicleDamage']].columns"
   ]
  },
  {
   "cell_type": "code",
   "execution_count": 13,
   "metadata": {},
   "outputs": [],
   "source": [
    "train[cat_cols] = train[cat_cols].astype('category')"
   ]
  },
  {
   "cell_type": "code",
   "execution_count": 14,
   "metadata": {},
   "outputs": [],
   "source": [
    "Numeric_transformer=Pipeline([('scalar1',StandardScaler())])\n",
    "categorical_transformer=Pipeline([('ohe',OneHotEncoder(handle_unknown='ignore'))])\n",
    "preprocessor=(ColumnTransformer(transformers=[('num',Numeric_transformer,num_cols),('cat',categorical_transformer,cat_cols)]))"
   ]
  },
  {
   "cell_type": "code",
   "execution_count": 15,
   "metadata": {},
   "outputs": [],
   "source": [
    "from sklearn.neighbors import KNeighborsClassifier"
   ]
  },
  {
   "cell_type": "code",
   "execution_count": 16,
   "metadata": {},
   "outputs": [],
   "source": [
    "RF_pipe = Pipeline([('pp',preprocessor),('DT',KNeighborsClassifier(n_neighbors=7))])"
   ]
  },
  {
   "cell_type": "code",
   "execution_count": 17,
   "metadata": {},
   "outputs": [
    {
     "data": {
      "text/html": [
       "<style>#sk-container-id-1 {color: black;background-color: white;}#sk-container-id-1 pre{padding: 0;}#sk-container-id-1 div.sk-toggleable {background-color: white;}#sk-container-id-1 label.sk-toggleable__label {cursor: pointer;display: block;width: 100%;margin-bottom: 0;padding: 0.3em;box-sizing: border-box;text-align: center;}#sk-container-id-1 label.sk-toggleable__label-arrow:before {content: \"▸\";float: left;margin-right: 0.25em;color: #696969;}#sk-container-id-1 label.sk-toggleable__label-arrow:hover:before {color: black;}#sk-container-id-1 div.sk-estimator:hover label.sk-toggleable__label-arrow:before {color: black;}#sk-container-id-1 div.sk-toggleable__content {max-height: 0;max-width: 0;overflow: hidden;text-align: left;background-color: #f0f8ff;}#sk-container-id-1 div.sk-toggleable__content pre {margin: 0.2em;color: black;border-radius: 0.25em;background-color: #f0f8ff;}#sk-container-id-1 input.sk-toggleable__control:checked~div.sk-toggleable__content {max-height: 200px;max-width: 100%;overflow: auto;}#sk-container-id-1 input.sk-toggleable__control:checked~label.sk-toggleable__label-arrow:before {content: \"▾\";}#sk-container-id-1 div.sk-estimator input.sk-toggleable__control:checked~label.sk-toggleable__label {background-color: #d4ebff;}#sk-container-id-1 div.sk-label input.sk-toggleable__control:checked~label.sk-toggleable__label {background-color: #d4ebff;}#sk-container-id-1 input.sk-hidden--visually {border: 0;clip: rect(1px 1px 1px 1px);clip: rect(1px, 1px, 1px, 1px);height: 1px;margin: -1px;overflow: hidden;padding: 0;position: absolute;width: 1px;}#sk-container-id-1 div.sk-estimator {font-family: monospace;background-color: #f0f8ff;border: 1px dotted black;border-radius: 0.25em;box-sizing: border-box;margin-bottom: 0.5em;}#sk-container-id-1 div.sk-estimator:hover {background-color: #d4ebff;}#sk-container-id-1 div.sk-parallel-item::after {content: \"\";width: 100%;border-bottom: 1px solid gray;flex-grow: 1;}#sk-container-id-1 div.sk-label:hover label.sk-toggleable__label {background-color: #d4ebff;}#sk-container-id-1 div.sk-serial::before {content: \"\";position: absolute;border-left: 1px solid gray;box-sizing: border-box;top: 0;bottom: 0;left: 50%;z-index: 0;}#sk-container-id-1 div.sk-serial {display: flex;flex-direction: column;align-items: center;background-color: white;padding-right: 0.2em;padding-left: 0.2em;position: relative;}#sk-container-id-1 div.sk-item {position: relative;z-index: 1;}#sk-container-id-1 div.sk-parallel {display: flex;align-items: stretch;justify-content: center;background-color: white;position: relative;}#sk-container-id-1 div.sk-item::before, #sk-container-id-1 div.sk-parallel-item::before {content: \"\";position: absolute;border-left: 1px solid gray;box-sizing: border-box;top: 0;bottom: 0;left: 50%;z-index: -1;}#sk-container-id-1 div.sk-parallel-item {display: flex;flex-direction: column;z-index: 1;position: relative;background-color: white;}#sk-container-id-1 div.sk-parallel-item:first-child::after {align-self: flex-end;width: 50%;}#sk-container-id-1 div.sk-parallel-item:last-child::after {align-self: flex-start;width: 50%;}#sk-container-id-1 div.sk-parallel-item:only-child::after {width: 0;}#sk-container-id-1 div.sk-dashed-wrapped {border: 1px dashed gray;margin: 0 0.4em 0.5em 0.4em;box-sizing: border-box;padding-bottom: 0.4em;background-color: white;}#sk-container-id-1 div.sk-label label {font-family: monospace;font-weight: bold;display: inline-block;line-height: 1.2em;}#sk-container-id-1 div.sk-label-container {text-align: center;}#sk-container-id-1 div.sk-container {/* jupyter's `normalize.less` sets `[hidden] { display: none; }` but bootstrap.min.css set `[hidden] { display: none !important; }` so we also need the `!important` here to be able to override the default hidden behavior on the sphinx rendered scikit-learn.org. See: https://github.com/scikit-learn/scikit-learn/issues/21755 */display: inline-block !important;position: relative;}#sk-container-id-1 div.sk-text-repr-fallback {display: none;}</style><div id=\"sk-container-id-1\" class=\"sk-top-container\"><div class=\"sk-text-repr-fallback\"><pre>Pipeline(steps=[(&#x27;pp&#x27;,\n",
       "                 ColumnTransformer(transformers=[(&#x27;num&#x27;,\n",
       "                                                  Pipeline(steps=[(&#x27;scalar1&#x27;,\n",
       "                                                                   StandardScaler())]),\n",
       "                                                  Index([&#x27;AmountOfInjuryClaim&#x27;, &#x27;AmountOfPropertyClaim&#x27;,\n",
       "       &#x27;AmountOfVehicleDamage&#x27;],\n",
       "      dtype=&#x27;object&#x27;)),\n",
       "                                                 (&#x27;cat&#x27;,\n",
       "                                                  Pipeline(steps=[(&#x27;ohe&#x27;,\n",
       "                                                                   OneHotEncoder(handle_unknown=&#x27;ignore&#x27;))]),\n",
       "                                                  Index([&#x27;TypeOfIncident&#x27;, &#x27;SeverityOfIncident&#x27;, &#x27;AuthoritiesContacted&#x27;,\n",
       "       &#x27;IncidentState&#x27;, &#x27;IncidentCity&#x27;, &#x27;NumberOfVehicles&#x27;, &#x27;IncidentAddress&#x27;,\n",
       "       &#x27;BodilyInjuries&#x27;, &#x27;Witnesses&#x27;, &#x27;PoliceReport&#x27;],\n",
       "      dtype=&#x27;object&#x27;))])),\n",
       "                (&#x27;DT&#x27;, KNeighborsClassifier(n_neighbors=7))])</pre><b>In a Jupyter environment, please rerun this cell to show the HTML representation or trust the notebook. <br />On GitHub, the HTML representation is unable to render, please try loading this page with nbviewer.org.</b></div><div class=\"sk-container\" hidden><div class=\"sk-item sk-dashed-wrapped\"><div class=\"sk-label-container\"><div class=\"sk-label sk-toggleable\"><input class=\"sk-toggleable__control sk-hidden--visually\" id=\"sk-estimator-id-1\" type=\"checkbox\" ><label for=\"sk-estimator-id-1\" class=\"sk-toggleable__label sk-toggleable__label-arrow\">Pipeline</label><div class=\"sk-toggleable__content\"><pre>Pipeline(steps=[(&#x27;pp&#x27;,\n",
       "                 ColumnTransformer(transformers=[(&#x27;num&#x27;,\n",
       "                                                  Pipeline(steps=[(&#x27;scalar1&#x27;,\n",
       "                                                                   StandardScaler())]),\n",
       "                                                  Index([&#x27;AmountOfInjuryClaim&#x27;, &#x27;AmountOfPropertyClaim&#x27;,\n",
       "       &#x27;AmountOfVehicleDamage&#x27;],\n",
       "      dtype=&#x27;object&#x27;)),\n",
       "                                                 (&#x27;cat&#x27;,\n",
       "                                                  Pipeline(steps=[(&#x27;ohe&#x27;,\n",
       "                                                                   OneHotEncoder(handle_unknown=&#x27;ignore&#x27;))]),\n",
       "                                                  Index([&#x27;TypeOfIncident&#x27;, &#x27;SeverityOfIncident&#x27;, &#x27;AuthoritiesContacted&#x27;,\n",
       "       &#x27;IncidentState&#x27;, &#x27;IncidentCity&#x27;, &#x27;NumberOfVehicles&#x27;, &#x27;IncidentAddress&#x27;,\n",
       "       &#x27;BodilyInjuries&#x27;, &#x27;Witnesses&#x27;, &#x27;PoliceReport&#x27;],\n",
       "      dtype=&#x27;object&#x27;))])),\n",
       "                (&#x27;DT&#x27;, KNeighborsClassifier(n_neighbors=7))])</pre></div></div></div><div class=\"sk-serial\"><div class=\"sk-item sk-dashed-wrapped\"><div class=\"sk-label-container\"><div class=\"sk-label sk-toggleable\"><input class=\"sk-toggleable__control sk-hidden--visually\" id=\"sk-estimator-id-2\" type=\"checkbox\" ><label for=\"sk-estimator-id-2\" class=\"sk-toggleable__label sk-toggleable__label-arrow\">pp: ColumnTransformer</label><div class=\"sk-toggleable__content\"><pre>ColumnTransformer(transformers=[(&#x27;num&#x27;,\n",
       "                                 Pipeline(steps=[(&#x27;scalar1&#x27;,\n",
       "                                                  StandardScaler())]),\n",
       "                                 Index([&#x27;AmountOfInjuryClaim&#x27;, &#x27;AmountOfPropertyClaim&#x27;,\n",
       "       &#x27;AmountOfVehicleDamage&#x27;],\n",
       "      dtype=&#x27;object&#x27;)),\n",
       "                                (&#x27;cat&#x27;,\n",
       "                                 Pipeline(steps=[(&#x27;ohe&#x27;,\n",
       "                                                  OneHotEncoder(handle_unknown=&#x27;ignore&#x27;))]),\n",
       "                                 Index([&#x27;TypeOfIncident&#x27;, &#x27;SeverityOfIncident&#x27;, &#x27;AuthoritiesContacted&#x27;,\n",
       "       &#x27;IncidentState&#x27;, &#x27;IncidentCity&#x27;, &#x27;NumberOfVehicles&#x27;, &#x27;IncidentAddress&#x27;,\n",
       "       &#x27;BodilyInjuries&#x27;, &#x27;Witnesses&#x27;, &#x27;PoliceReport&#x27;],\n",
       "      dtype=&#x27;object&#x27;))])</pre></div></div></div><div class=\"sk-parallel\"><div class=\"sk-parallel-item\"><div class=\"sk-item\"><div class=\"sk-label-container\"><div class=\"sk-label sk-toggleable\"><input class=\"sk-toggleable__control sk-hidden--visually\" id=\"sk-estimator-id-3\" type=\"checkbox\" ><label for=\"sk-estimator-id-3\" class=\"sk-toggleable__label sk-toggleable__label-arrow\">num</label><div class=\"sk-toggleable__content\"><pre>Index([&#x27;AmountOfInjuryClaim&#x27;, &#x27;AmountOfPropertyClaim&#x27;,\n",
       "       &#x27;AmountOfVehicleDamage&#x27;],\n",
       "      dtype=&#x27;object&#x27;)</pre></div></div></div><div class=\"sk-serial\"><div class=\"sk-item\"><div class=\"sk-serial\"><div class=\"sk-item\"><div class=\"sk-estimator sk-toggleable\"><input class=\"sk-toggleable__control sk-hidden--visually\" id=\"sk-estimator-id-4\" type=\"checkbox\" ><label for=\"sk-estimator-id-4\" class=\"sk-toggleable__label sk-toggleable__label-arrow\">StandardScaler</label><div class=\"sk-toggleable__content\"><pre>StandardScaler()</pre></div></div></div></div></div></div></div></div><div class=\"sk-parallel-item\"><div class=\"sk-item\"><div class=\"sk-label-container\"><div class=\"sk-label sk-toggleable\"><input class=\"sk-toggleable__control sk-hidden--visually\" id=\"sk-estimator-id-5\" type=\"checkbox\" ><label for=\"sk-estimator-id-5\" class=\"sk-toggleable__label sk-toggleable__label-arrow\">cat</label><div class=\"sk-toggleable__content\"><pre>Index([&#x27;TypeOfIncident&#x27;, &#x27;SeverityOfIncident&#x27;, &#x27;AuthoritiesContacted&#x27;,\n",
       "       &#x27;IncidentState&#x27;, &#x27;IncidentCity&#x27;, &#x27;NumberOfVehicles&#x27;, &#x27;IncidentAddress&#x27;,\n",
       "       &#x27;BodilyInjuries&#x27;, &#x27;Witnesses&#x27;, &#x27;PoliceReport&#x27;],\n",
       "      dtype=&#x27;object&#x27;)</pre></div></div></div><div class=\"sk-serial\"><div class=\"sk-item\"><div class=\"sk-serial\"><div class=\"sk-item\"><div class=\"sk-estimator sk-toggleable\"><input class=\"sk-toggleable__control sk-hidden--visually\" id=\"sk-estimator-id-6\" type=\"checkbox\" ><label for=\"sk-estimator-id-6\" class=\"sk-toggleable__label sk-toggleable__label-arrow\">OneHotEncoder</label><div class=\"sk-toggleable__content\"><pre>OneHotEncoder(handle_unknown=&#x27;ignore&#x27;)</pre></div></div></div></div></div></div></div></div></div></div><div class=\"sk-item\"><div class=\"sk-estimator sk-toggleable\"><input class=\"sk-toggleable__control sk-hidden--visually\" id=\"sk-estimator-id-7\" type=\"checkbox\" ><label for=\"sk-estimator-id-7\" class=\"sk-toggleable__label sk-toggleable__label-arrow\">KNeighborsClassifier</label><div class=\"sk-toggleable__content\"><pre>KNeighborsClassifier(n_neighbors=7)</pre></div></div></div></div></div></div></div>"
      ],
      "text/plain": [
       "Pipeline(steps=[('pp',\n",
       "                 ColumnTransformer(transformers=[('num',\n",
       "                                                  Pipeline(steps=[('scalar1',\n",
       "                                                                   StandardScaler())]),\n",
       "                                                  Index(['AmountOfInjuryClaim', 'AmountOfPropertyClaim',\n",
       "       'AmountOfVehicleDamage'],\n",
       "      dtype='object')),\n",
       "                                                 ('cat',\n",
       "                                                  Pipeline(steps=[('ohe',\n",
       "                                                                   OneHotEncoder(handle_unknown='ignore'))]),\n",
       "                                                  Index(['TypeOfIncident', 'SeverityOfIncident', 'AuthoritiesContacted',\n",
       "       'IncidentState', 'IncidentCity', 'NumberOfVehicles', 'IncidentAddress',\n",
       "       'BodilyInjuries', 'Witnesses', 'PoliceReport'],\n",
       "      dtype='object'))])),\n",
       "                ('DT', KNeighborsClassifier(n_neighbors=7))])"
      ]
     },
     "execution_count": 17,
     "metadata": {},
     "output_type": "execute_result"
    }
   ],
   "source": [
    "RF_pipe.fit(x,y)"
   ]
  },
  {
   "cell_type": "code",
   "execution_count": 18,
   "metadata": {},
   "outputs": [],
   "source": [
    "train_pred_RFPipe = RF_pipe.predict(x)\n",
    "test_pred_RFPipe = RF_pipe.predict(test)"
   ]
  },
  {
   "cell_type": "code",
   "execution_count": 19,
   "metadata": {},
   "outputs": [],
   "source": [
    "def evaluate_model(act, pred):\n",
    "    from sklearn.metrics import confusion_matrix, accuracy_score, recall_score, precision_score\n",
    "    print(\"Confusion Matrix \\n\", confusion_matrix(act, pred))\n",
    "    print(\"Accuracy : \", accuracy_score(act, pred))"
   ]
  },
  {
   "cell_type": "code",
   "execution_count": 20,
   "metadata": {},
   "outputs": [
    {
     "name": "stdout",
     "output_type": "stream",
     "text": [
      "Confusion Matrix \n",
      " [[5862  760  624]\n",
      " [ 873 6743  945]\n",
      " [ 787 1060 6020]]\n",
      "Accuracy :  0.7867280560952944\n"
     ]
    }
   ],
   "source": [
    "evaluate_model(y,train_pred_RFPipe)"
   ]
  },
  {
   "cell_type": "code",
   "execution_count": 21,
   "metadata": {
    "scrolled": true
   },
   "outputs": [
    {
     "data": {
      "text/plain": [
       "<AxesSubplot:ylabel='count'>"
      ]
     },
     "execution_count": 21,
     "metadata": {},
     "output_type": "execute_result"
    },
    {
     "data": {
      "image/png": "[encoded data removed]",
      "text/plain": [
       "<Figure size 432x288 with 1 Axes>"
      ]
     },
     "metadata": {
      "needs_background": "light"
     },
     "output_type": "display_data"
    }
   ],
   "source": [
    "sns.countplot(train_pred_RFPipe)"
   ]
  },
  {
   "cell_type": "code",
   "execution_count": 22,
   "metadata": {},
   "outputs": [
    {
     "data": {
      "text/plain": [
       "<AxesSubplot:xlabel='TypeOfCollission', ylabel='count'>"
      ]
     },
     "execution_count": 22,
     "metadata": {},
     "output_type": "execute_result"
    },
    {
     "data": {
      "image/png": "[encoded data removed]",
      "text/plain": [
       "<Figure size 432x288 with 1 Axes>"
      ]
     },
     "metadata": {
      "needs_background": "light"
     },
     "output_type": "display_data"
    }
   ],
   "source": [
    "sns.countplot(y)"
   ]
  },
  {
   "cell_type": "code",
   "execution_count": 23,
   "metadata": {},
   "outputs": [
    {
     "data": {
      "text/plain": [
       "<AxesSubplot:ylabel='count'>"
      ]
     },
     "execution_count": 23,
     "metadata": {},
     "output_type": "execute_result"
    },
    {
     "data": {
      "image/png": "[encoded data removed]",
      "text/plain": [
       "<Figure size 432x288 with 1 Axes>"
      ]
     },
     "metadata": {
      "needs_background": "light"
     },
     "output_type": "display_data"
    }
   ],
   "source": [
    "sns.countplot(test_pred_RFPipe)"
   ]
  },
  {
   "cell_type": "code",
   "execution_count": 24,
   "metadata": {},
   "outputs": [],
   "source": [
    "test1=data_claim_1[data_claim_1['TypeOfCollission'].isnull()]\n",
    "train1=data_claim_1[data_claim_1['TypeOfCollission'].notnull()]"
   ]
  },
  {
   "cell_type": "code",
   "execution_count": 25,
   "metadata": {},
   "outputs": [],
   "source": []
  },
  {
   "cell_type": "code",
   "execution_count": 26,
   "metadata": {},
   "outputs": [
    {
     "data": {
      "text/html": [
       "<div>\n",
       "<style scoped>\n",
       "    .dataframe tbody tr th:only-of-type {\n",
       "        vertical-align: middle;\n",
       "    }\n",
       "\n",
       "    .dataframe tbody tr th {\n",
       "        vertical-align: top;\n",
       "    }\n",
       "\n",
       "    .dataframe thead th {\n",
       "        text-align: right;\n",
       "    }\n",
       "</style>\n",
       "<table border=\"1\" class=\"dataframe\">\n",
       "  <thead>\n",
       "    <tr style=\"text-align: right;\">\n",
       "      <th></th>\n",
       "      <th>CustomerID</th>\n",
       "      <th>DateOfIncident</th>\n",
       "      <th>TypeOfIncident</th>\n",
       "      <th>TypeOfCollission</th>\n",
       "      <th>SeverityOfIncident</th>\n",
       "      <th>AuthoritiesContacted</th>\n",
       "      <th>IncidentState</th>\n",
       "      <th>IncidentCity</th>\n",
       "      <th>IncidentAddress</th>\n",
       "      <th>IncidentTime</th>\n",
       "      <th>NumberOfVehicles</th>\n",
       "      <th>PropertyDamage</th>\n",
       "      <th>BodilyInjuries</th>\n",
       "      <th>Witnesses</th>\n",
       "      <th>PoliceReport</th>\n",
       "      <th>AmountOfTotalClaim</th>\n",
       "      <th>AmountOfInjuryClaim</th>\n",
       "      <th>AmountOfPropertyClaim</th>\n",
       "      <th>AmountOfVehicleDamage</th>\n",
       "    </tr>\n",
       "  </thead>\n",
       "  <tbody>\n",
       "    <tr>\n",
       "      <th>16</th>\n",
       "      <td>Cust10018</td>\n",
       "      <td>2015-02-28</td>\n",
       "      <td>Parked Car</td>\n",
       "      <td>NaN</td>\n",
       "      <td>Minor Damage</td>\n",
       "      <td>Police</td>\n",
       "      <td>State6</td>\n",
       "      <td>City1</td>\n",
       "      <td>Location 1963</td>\n",
       "      <td>7.0</td>\n",
       "      <td>1</td>\n",
       "      <td>YES</td>\n",
       "      <td>0</td>\n",
       "      <td>2.0</td>\n",
       "      <td>NO</td>\n",
       "      <td>5371.0</td>\n",
       "      <td>679</td>\n",
       "      <td>521</td>\n",
       "      <td>4171</td>\n",
       "    </tr>\n",
       "    <tr>\n",
       "      <th>17</th>\n",
       "      <td>Cust10019</td>\n",
       "      <td>2015-02-28</td>\n",
       "      <td>Parked Car</td>\n",
       "      <td>NaN</td>\n",
       "      <td>Minor Damage</td>\n",
       "      <td>Police</td>\n",
       "      <td>State6</td>\n",
       "      <td>City1</td>\n",
       "      <td>Location 1963</td>\n",
       "      <td>7.0</td>\n",
       "      <td>1</td>\n",
       "      <td>YES</td>\n",
       "      <td>0</td>\n",
       "      <td>2.0</td>\n",
       "      <td>YES</td>\n",
       "      <td>5408.0</td>\n",
       "      <td>689</td>\n",
       "      <td>524</td>\n",
       "      <td>4195</td>\n",
       "    </tr>\n",
       "    <tr>\n",
       "      <th>18</th>\n",
       "      <td>Cust10021</td>\n",
       "      <td>2015-01-03</td>\n",
       "      <td>Vehicle Theft</td>\n",
       "      <td>NaN</td>\n",
       "      <td>Trivial Damage</td>\n",
       "      <td>None</td>\n",
       "      <td>State4</td>\n",
       "      <td>City5</td>\n",
       "      <td>Location 1449</td>\n",
       "      <td>10.0</td>\n",
       "      <td>1</td>\n",
       "      <td>NaN</td>\n",
       "      <td>2</td>\n",
       "      <td>1.0</td>\n",
       "      <td>NaN</td>\n",
       "      <td>6190.0</td>\n",
       "      <td>619</td>\n",
       "      <td>1208</td>\n",
       "      <td>4363</td>\n",
       "    </tr>\n",
       "    <tr>\n",
       "      <th>42</th>\n",
       "      <td>Cust1005</td>\n",
       "      <td>2015-02-17</td>\n",
       "      <td>Vehicle Theft</td>\n",
       "      <td>NaN</td>\n",
       "      <td>Minor Damage</td>\n",
       "      <td>None</td>\n",
       "      <td>State5</td>\n",
       "      <td>City1</td>\n",
       "      <td>Location 1518</td>\n",
       "      <td>20.0</td>\n",
       "      <td>1</td>\n",
       "      <td>NO</td>\n",
       "      <td>0</td>\n",
       "      <td>1.0</td>\n",
       "      <td>NO</td>\n",
       "      <td>6500.0</td>\n",
       "      <td>1300</td>\n",
       "      <td>650</td>\n",
       "      <td>4550</td>\n",
       "    </tr>\n",
       "    <tr>\n",
       "      <th>55</th>\n",
       "      <td>Cust10067</td>\n",
       "      <td>2015-01-16</td>\n",
       "      <td>Vehicle Theft</td>\n",
       "      <td>NaN</td>\n",
       "      <td>Minor Damage</td>\n",
       "      <td>None</td>\n",
       "      <td>State7</td>\n",
       "      <td>City5</td>\n",
       "      <td>Location 1842</td>\n",
       "      <td>8.0</td>\n",
       "      <td>1</td>\n",
       "      <td>YES</td>\n",
       "      <td>1</td>\n",
       "      <td>0.0</td>\n",
       "      <td>NO</td>\n",
       "      <td>5892.0</td>\n",
       "      <td>857</td>\n",
       "      <td>857</td>\n",
       "      <td>4178</td>\n",
       "    </tr>\n",
       "    <tr>\n",
       "      <th>...</th>\n",
       "      <td>...</td>\n",
       "      <td>...</td>\n",
       "      <td>...</td>\n",
       "      <td>...</td>\n",
       "      <td>...</td>\n",
       "      <td>...</td>\n",
       "      <td>...</td>\n",
       "      <td>...</td>\n",
       "      <td>...</td>\n",
       "      <td>...</td>\n",
       "      <td>...</td>\n",
       "      <td>...</td>\n",
       "      <td>...</td>\n",
       "      <td>...</td>\n",
       "      <td>...</td>\n",
       "      <td>...</td>\n",
       "      <td>...</td>\n",
       "      <td>...</td>\n",
       "      <td>...</td>\n",
       "    </tr>\n",
       "    <tr>\n",
       "      <th>28817</th>\n",
       "      <td>Cust9975</td>\n",
       "      <td>2015-02-19</td>\n",
       "      <td>Parked Car</td>\n",
       "      <td>NaN</td>\n",
       "      <td>Trivial Damage</td>\n",
       "      <td>Police</td>\n",
       "      <td>State7</td>\n",
       "      <td>City4</td>\n",
       "      <td>Location 1105</td>\n",
       "      <td>8.0</td>\n",
       "      <td>1</td>\n",
       "      <td>NaN</td>\n",
       "      <td>2</td>\n",
       "      <td>2.0</td>\n",
       "      <td>NaN</td>\n",
       "      <td>4981.0</td>\n",
       "      <td>787</td>\n",
       "      <td>787</td>\n",
       "      <td>3407</td>\n",
       "    </tr>\n",
       "    <tr>\n",
       "      <th>28818</th>\n",
       "      <td>Cust9976</td>\n",
       "      <td>2015-01-17</td>\n",
       "      <td>Parked Car</td>\n",
       "      <td>NaN</td>\n",
       "      <td>Minor Damage</td>\n",
       "      <td>None</td>\n",
       "      <td>State8</td>\n",
       "      <td>City1</td>\n",
       "      <td>Location 1391</td>\n",
       "      <td>15.0</td>\n",
       "      <td>1</td>\n",
       "      <td>NaN</td>\n",
       "      <td>1</td>\n",
       "      <td>1.0</td>\n",
       "      <td>YES</td>\n",
       "      <td>5183.0</td>\n",
       "      <td>1185</td>\n",
       "      <td>804</td>\n",
       "      <td>3194</td>\n",
       "    </tr>\n",
       "    <tr>\n",
       "      <th>28819</th>\n",
       "      <td>Cust9977</td>\n",
       "      <td>2015-02-07</td>\n",
       "      <td>Parked Car</td>\n",
       "      <td>NaN</td>\n",
       "      <td>Trivial Damage</td>\n",
       "      <td>None</td>\n",
       "      <td>State8</td>\n",
       "      <td>City1</td>\n",
       "      <td>Location 1391</td>\n",
       "      <td>6.0</td>\n",
       "      <td>1</td>\n",
       "      <td>NO</td>\n",
       "      <td>2</td>\n",
       "      <td>2.0</td>\n",
       "      <td>YES</td>\n",
       "      <td>3589.0</td>\n",
       "      <td>701</td>\n",
       "      <td>625</td>\n",
       "      <td>2263</td>\n",
       "    </tr>\n",
       "    <tr>\n",
       "      <th>28830</th>\n",
       "      <td>Cust9992</td>\n",
       "      <td>2015-01-11</td>\n",
       "      <td>Vehicle Theft</td>\n",
       "      <td>NaN</td>\n",
       "      <td>Trivial Damage</td>\n",
       "      <td>None</td>\n",
       "      <td>State9</td>\n",
       "      <td>City4</td>\n",
       "      <td>Location 1858</td>\n",
       "      <td>4.0</td>\n",
       "      <td>1</td>\n",
       "      <td>NO</td>\n",
       "      <td>0</td>\n",
       "      <td>2.0</td>\n",
       "      <td>NaN</td>\n",
       "      <td>7262.0</td>\n",
       "      <td>698</td>\n",
       "      <td>1304</td>\n",
       "      <td>5260</td>\n",
       "    </tr>\n",
       "    <tr>\n",
       "      <th>28831</th>\n",
       "      <td>Cust9993</td>\n",
       "      <td>2015-01-24</td>\n",
       "      <td>Vehicle Theft</td>\n",
       "      <td>NaN</td>\n",
       "      <td>Trivial Damage</td>\n",
       "      <td>Police</td>\n",
       "      <td>State9</td>\n",
       "      <td>City4</td>\n",
       "      <td>Location 1890</td>\n",
       "      <td>3.0</td>\n",
       "      <td>1</td>\n",
       "      <td>NO</td>\n",
       "      <td>0</td>\n",
       "      <td>3.0</td>\n",
       "      <td>NaN</td>\n",
       "      <td>6590.0</td>\n",
       "      <td>870</td>\n",
       "      <td>1078</td>\n",
       "      <td>4642</td>\n",
       "    </tr>\n",
       "  </tbody>\n",
       "</table>\n",
       "<p>5162 rows × 19 columns</p>\n",
       "</div>"
      ],
      "text/plain": [
       "      CustomerID DateOfIncident TypeOfIncident TypeOfCollission  \\\n",
       "16     Cust10018     2015-02-28     Parked Car              NaN   \n",
       "17     Cust10019     2015-02-28     Parked Car              NaN   \n",
       "18     Cust10021     2015-01-03  Vehicle Theft              NaN   \n",
       "42      Cust1005     2015-02-17  Vehicle Theft              NaN   \n",
       "55     Cust10067     2015-01-16  Vehicle Theft              NaN   \n",
       "...          ...            ...            ...              ...   \n",
       "28817   Cust9975     2015-02-19     Parked Car              NaN   \n",
       "28818   Cust9976     2015-01-17     Parked Car              NaN   \n",
       "28819   Cust9977     2015-02-07     Parked Car              NaN   \n",
       "28830   Cust9992     2015-01-11  Vehicle Theft              NaN   \n",
       "28831   Cust9993     2015-01-24  Vehicle Theft              NaN   \n",
       "\n",
       "      SeverityOfIncident AuthoritiesContacted IncidentState IncidentCity  \\\n",
       "16          Minor Damage               Police        State6        City1   \n",
       "17          Minor Damage               Police        State6        City1   \n",
       "18        Trivial Damage                 None        State4        City5   \n",
       "42          Minor Damage                 None        State5        City1   \n",
       "55          Minor Damage                 None        State7        City5   \n",
       "...                  ...                  ...           ...          ...   \n",
       "28817     Trivial Damage               Police        State7        City4   \n",
       "28818       Minor Damage                 None        State8        City1   \n",
       "28819     Trivial Damage                 None        State8        City1   \n",
       "28830     Trivial Damage                 None        State9        City4   \n",
       "28831     Trivial Damage               Police        State9        City4   \n",
       "\n",
       "      IncidentAddress  IncidentTime  NumberOfVehicles PropertyDamage  \\\n",
       "16      Location 1963           7.0                 1            YES   \n",
       "17      Location 1963           7.0                 1            YES   \n",
       "18      Location 1449          10.0                 1            NaN   \n",
       "42      Location 1518          20.0                 1             NO   \n",
       "55      Location 1842           8.0                 1            YES   \n",
       "...               ...           ...               ...            ...   \n",
       "28817   Location 1105           8.0                 1            NaN   \n",
       "28818   Location 1391          15.0                 1            NaN   \n",
       "28819   Location 1391           6.0                 1             NO   \n",
       "28830   Location 1858           4.0                 1             NO   \n",
       "28831   Location 1890           3.0                 1             NO   \n",
       "\n",
       "       BodilyInjuries  Witnesses PoliceReport  AmountOfTotalClaim  \\\n",
       "16                  0        2.0           NO              5371.0   \n",
       "17                  0        2.0          YES              5408.0   \n",
       "18                  2        1.0          NaN              6190.0   \n",
       "42                  0        1.0           NO              6500.0   \n",
       "55                  1        0.0           NO              5892.0   \n",
       "...               ...        ...          ...                 ...   \n",
       "28817               2        2.0          NaN              4981.0   \n",
       "28818               1        1.0          YES              5183.0   \n",
       "28819               2        2.0          YES              3589.0   \n",
       "28830               0        2.0          NaN              7262.0   \n",
       "28831               0        3.0          NaN              6590.0   \n",
       "\n",
       "       AmountOfInjuryClaim  AmountOfPropertyClaim  AmountOfVehicleDamage  \n",
       "16                     679                    521                   4171  \n",
       "17                     689                    524                   4195  \n",
       "18                     619                   1208                   4363  \n",
       "42                    1300                    650                   4550  \n",
       "55                     857                    857                   4178  \n",
       "...                    ...                    ...                    ...  \n",
       "28817                  787                    787                   3407  \n",
       "28818                 1185                    804                   3194  \n",
       "28819                  701                    625                   2263  \n",
       "28830                  698                   1304                   5260  \n",
       "28831                  870                   1078                   4642  \n",
       "\n",
       "[5162 rows x 19 columns]"
      ]
     },
     "execution_count": 26,
     "metadata": {},
     "output_type": "execute_result"
    }
   ],
   "source": [
    "test1"
   ]
  },
  {
   "cell_type": "code",
   "execution_count": 27,
   "metadata": {},
   "outputs": [],
   "source": [
    "test1['TypeOfCollission']=test_pred_RFPipe"
   ]
  },
  {
   "cell_type": "code",
   "execution_count": 28,
   "metadata": {},
   "outputs": [],
   "source": [
    "data_claim=pd.concat([train1,test1],axis=0)"
   ]
  },
  {
   "cell_type": "code",
   "execution_count": 29,
   "metadata": {},
   "outputs": [
    {
     "data": {
      "text/plain": [
       "CustomerID               28836\n",
       "DateOfIncident              72\n",
       "TypeOfIncident               4\n",
       "TypeOfCollission             3\n",
       "SeverityOfIncident           4\n",
       "AuthoritiesContacted         5\n",
       "IncidentState                7\n",
       "IncidentCity                 7\n",
       "IncidentAddress           1000\n",
       "IncidentTime                24\n",
       "NumberOfVehicles             4\n",
       "PropertyDamage               2\n",
       "BodilyInjuries               3\n",
       "Witnesses                    4\n",
       "PoliceReport                 2\n",
       "AmountOfTotalClaim       21975\n",
       "AmountOfInjuryClaim      11958\n",
       "AmountOfPropertyClaim    11785\n",
       "AmountOfVehicleDamage    20041\n",
       "dtype: int64"
      ]
     },
     "execution_count": 29,
     "metadata": {},
     "output_type": "execute_result"
    }
   ],
   "source": [
    "data_claim.nunique()"
   ]
  },
  {
   "cell_type": "code",
   "execution_count": 30,
   "metadata": {},
   "outputs": [
    {
     "data": {
      "text/plain": [
       "CustomerID                   0\n",
       "DateOfIncident               0\n",
       "TypeOfIncident               0\n",
       "TypeOfCollission             0\n",
       "SeverityOfIncident           0\n",
       "AuthoritiesContacted         0\n",
       "IncidentState                0\n",
       "IncidentCity                 0\n",
       "IncidentAddress              0\n",
       "IncidentTime                31\n",
       "NumberOfVehicles             0\n",
       "PropertyDamage           10459\n",
       "BodilyInjuries               0\n",
       "Witnesses                   46\n",
       "PoliceReport              9805\n",
       "AmountOfTotalClaim          50\n",
       "AmountOfInjuryClaim          0\n",
       "AmountOfPropertyClaim        0\n",
       "AmountOfVehicleDamage        0\n",
       "dtype: int64"
      ]
     },
     "execution_count": 30,
     "metadata": {},
     "output_type": "execute_result"
    }
   ],
   "source": [
    "data_claim.isnull().sum()"
   ]
  },
  {
   "cell_type": "code",
   "execution_count": 31,
   "metadata": {
    "scrolled": true
   },
   "outputs": [
    {
     "data": {
      "text/plain": [
       "<AxesSubplot:xlabel='TypeOfCollission', ylabel='count'>"
      ]
     },
     "execution_count": 31,
     "metadata": {},
     "output_type": "execute_result"
    },
    {
     "data": {
      "image/png": "[encoded data removed]",
      "text/plain": [
       "<Figure size 432x288 with 1 Axes>"
      ]
     },
     "metadata": {
      "needs_background": "light"
     },
     "output_type": "display_data"
    }
   ],
   "source": [
    "sns.countplot(data_claim['TypeOfCollission'])"
   ]
  },
  {
   "cell_type": "code",
   "execution_count": 32,
   "metadata": {},
   "outputs": [],
   "source": [
    "data_claim.to_csv('train_claim_new.csv')"
   ]
  },
  {
   "cell_type": "code",
   "execution_count": 61,
   "metadata": {},
   "outputs": [],
   "source": [
    "test_data_claim=test_data_claim[test_data_claim['TypeOfCollission'].isnull()]"
   ]
  },
  {
   "cell_type": "code",
   "execution_count": 62,
   "metadata": {},
   "outputs": [],
   "source": [
    "x_test_data_claim=test_data_claim.drop('TypeOfCollission',axis=1)"
   ]
  },
  {
   "cell_type": "code",
   "execution_count": 63,
   "metadata": {},
   "outputs": [],
   "source": [
    "test_pred_test = RF_pipe.predict(x_test_data_claim)"
   ]
  },
  {
   "cell_type": "code",
   "execution_count": 64,
   "metadata": {},
   "outputs": [
    {
     "data": {
      "text/plain": [
       "<AxesSubplot:ylabel='count'>"
      ]
     },
     "execution_count": 64,
     "metadata": {},
     "output_type": "execute_result"
    },
    {
     "data": {
      "image/png": "[encoded data removed]",
      "text/plain": [
       "<Figure size 432x288 with 1 Axes>"
      ]
     },
     "metadata": {
      "needs_background": "light"
     },
     "output_type": "display_data"
    }
   ],
   "source": [
    "sns.countplot(test_pred_test)"
   ]
  },
  {
   "cell_type": "code",
   "execution_count": 65,
   "metadata": {},
   "outputs": [],
   "source": [
    "train2=test_data_claim1[test_data_claim1['TypeOfCollission'].notnull()]\n",
    "test2=test_data_claim1[test_data_claim1['TypeOfCollission'].isnull()]\n"
   ]
  },
  {
   "cell_type": "code",
   "execution_count": 66,
   "metadata": {},
   "outputs": [
    {
     "data": {
      "text/plain": [
       "(1763, 19)"
      ]
     },
     "execution_count": 66,
     "metadata": {},
     "output_type": "execute_result"
    }
   ],
   "source": [
    "test2.shape"
   ]
  },
  {
   "cell_type": "code",
   "execution_count": 67,
   "metadata": {},
   "outputs": [
    {
     "data": {
      "text/plain": [
       "(1763,)"
      ]
     },
     "execution_count": 67,
     "metadata": {},
     "output_type": "execute_result"
    }
   ],
   "source": [
    "test_pred_test.shape"
   ]
  },
  {
   "cell_type": "code",
   "execution_count": 68,
   "metadata": {},
   "outputs": [],
   "source": [
    "test2['TypeOfCollission']=test_pred_test"
   ]
  },
  {
   "cell_type": "code",
   "execution_count": 69,
   "metadata": {},
   "outputs": [],
   "source": [
    "test_data_claim=pd.concat([train2,test2],axis=0)"
   ]
  },
  {
   "cell_type": "code",
   "execution_count": 71,
   "metadata": {},
   "outputs": [
    {
     "data": {
      "text/plain": [
       "CustomerID                  0\n",
       "DateOfIncident              0\n",
       "TypeOfIncident              0\n",
       "TypeOfCollission            0\n",
       "SeverityOfIncident          0\n",
       "AuthoritiesContacted        0\n",
       "IncidentState               0\n",
       "IncidentCity                0\n",
       "IncidentAddress             0\n",
       "IncidentTime                7\n",
       "NumberOfVehicles            0\n",
       "PropertyDamage           3199\n",
       "BodilyInjuries              0\n",
       "Witnesses                  12\n",
       "PoliceReport             3014\n",
       "AmountOfTotalClaim          8\n",
       "AmountOfInjuryClaim         0\n",
       "AmountOfPropertyClaim       0\n",
       "AmountOfVehicleDamage       0\n",
       "dtype: int64"
      ]
     },
     "execution_count": 71,
     "metadata": {},
     "output_type": "execute_result"
    }
   ],
   "source": [
    "test_data_claim.isnull().sum()"
   ]
  },
  {
   "cell_type": "code",
   "execution_count": 72,
   "metadata": {},
   "outputs": [],
   "source": [
    "test_data_claim.to_csv('test_data_claim_new.csv')"
   ]
  },
  {
   "cell_type": "code",
   "execution_count": null,
   "metadata": {},
   "outputs": [],
   "source": []
  }
 ],
 "metadata": {
  "kernelspec": {
   "display_name": "Python 3",
   "language": "python",
   "name": "python3"
  },
  "language_info": {
   "codemirror_mode": {
    "name": "ipython",
    "version": 3
   },
   "file_extension": ".py",
   "mimetype": "text/x-python",
   "name": "python",
   "nbconvert_exporter": "python",
   "pygments_lexer": "ipython3",
   "version": "3.8.5"
  }
 },
 "nbformat": 4,
 "nbformat_minor": 4
}
